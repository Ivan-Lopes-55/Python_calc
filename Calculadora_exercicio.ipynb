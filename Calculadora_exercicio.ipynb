{
  "nbformat": 4,
  "nbformat_minor": 0,
  "metadata": {
    "colab": {
      "provenance": []
    },
    "kernelspec": {
      "name": "python3",
      "display_name": "Python 3"
    },
    "language_info": {
      "name": "python"
    }
  },
  "cells": [
    {
      "cell_type": "code",
      "execution_count": 17,
      "metadata": {
        "colab": {
          "base_uri": "https://localhost:8080/"
        },
        "id": "y2Z_frGWYSC7",
        "outputId": "b710a74e-41e6-43ce-d761-2c1da7e8962e"
      },
      "outputs": [
        {
          "output_type": "stream",
          "name": "stdout",
          "text": [
            "Olá, qual o seu nome? Ivan\n",
            "Seja bem vindo  Ivan ! Este programa mostrará o resultado das principais operações matemáticas de dois numeros.\n",
            "Digite o primeiro numero: 5\n",
            "Digite o segundo numero: 10\n",
            "A soma dos numeros é:  15\n",
            "A subtração dos numeros é:  -5\n",
            "A multiplicação dos numeros é:  50\n",
            "A divisão dos numeros é:  0.5\n",
            "Deseja fazer outra operação? Digite sim ou não sim\n",
            "Digite o primeiro numero: 8\n",
            "Digite o segundo numero: 4\n",
            "A soma dos numeros é:  12\n",
            "A subtração dos numeros é:  4\n",
            "A multiplicação dos numeros é:  32\n",
            "A divisão dos numeros é:  2.0\n",
            "Deseja fazer outra operação? Digite sim ou não não\n",
            "Até mais!\n"
          ]
        }
      ],
      "source": [
        "nome = input('Olá, qual o seu nome? ')\n",
        "print('Seja bem vindo ',nome,'! Este programa mostrará o resultado das principais operações matemáticas de dois numeros.')\n",
        "resposta = 'sim'\n",
        "while resposta == 'sim' or resposta == 'Sim':\n",
        "  num1 = int(input('Digite o primeiro numero: '))\n",
        "  num2 = int(input('Digite o segundo numero: '))\n",
        "  soma = num1 + num2\n",
        "  subtracao = num1 - num2\n",
        "  multiplicacao = num1 * num2\n",
        "  divisao = num1 / num2\n",
        "  print('A soma dos numeros é: ',soma)\n",
        "  print('A subtração dos numeros é: ',subtracao)\n",
        "  print('A multiplicação dos numeros é: ',multiplicacao)\n",
        "  print('A divisão dos numeros é: ',divisao)\n",
        "\n",
        "  resposta = input('Deseja fazer outra operação com outros números? Digite sim ou não ')\n",
        "  while resposta != 'sim' and resposta != 'Sim' and resposta != 'não' and resposta !='Não':\n",
        "    print('Resposta inválida, tente novamente')\n",
        "    resposta = input('Deseja fazer outra operação? Digite sim ou não ')\n",
        "\n",
        "print('Até mais!')\n",
        "\n",
        "\n",
        "\n",
        "\n",
        "\n"
      ]
    }
  ]
}